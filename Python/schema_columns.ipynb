{
 "cells": [
  {
   "cell_type": "code",
   "execution_count": 6,
   "id": "4e883fe6-e42b-403f-a85e-dccb80532afe",
   "metadata": {},
   "outputs": [
    {
     "name": "stdout",
     "output_type": "stream",
     "text": [
      "✅ Working directory set to: /Users/jonnygreenwood/Documents/Forecast-Accuracy-Analysis\n"
     ]
    }
   ],
   "source": [
    "import pandas as pd\n",
    "# ensure project root is the working directory\n",
    "from pathlib import Path\n",
    "import os\n",
    "\n",
    "# Move one level up (from /Python to project root)\n",
    "os.chdir(Path().resolve().parent)\n",
    "\n",
    "print(\"✅ Working directory set to:\", Path().resolve())"
   ]
  },
  {
   "cell_type": "code",
   "execution_count": 7,
   "id": "2d37f252-38a8-4967-b610-57b68a3f1431",
   "metadata": {},
   "outputs": [],
   "source": [
    "# Relative paths\n",
    "\n",
    "files = [\n",
    "'data/m5-forecasting-accuracy/calendar.csv',\n",
    "'data/m5-forecasting-accuracy/sales_train_evaluation.csv',\n",
    "'data/m5-forecasting-accuracy/sales_train_validation.csv',\n",
    "'data/m5-forecasting-accuracy/sample_submission.csv',\n",
    "'data/m5-forecasting-accuracy/sell_prices.csv'\n",
    "]"
   ]
  },
  {
   "cell_type": "code",
   "execution_count": 8,
   "id": "cf0871a2-9bda-476f-a695-a6fe9e2a8215",
   "metadata": {},
   "outputs": [],
   "source": [
    "def get_schema(file_path, nrows=500):\n",
    "    \"\"\"\n",
    "    Generate a Markdown schema table for a CSV file.\n",
    "    \n",
    "    Args:\n",
    "        file_path (str): Path to the CSV file.\n",
    "        nrows (int): Number of rows to sample for dtype inference (default 500).\n",
    "    \n",
    "    Returns:\n",
    "        str: Markdown table as a string.\n",
    "    \"\"\"\n",
    "    # Read a small sample for speed\n",
    "    df = pd.read_csv(file_path, nrows=nrows)\n",
    "    \n",
    "    # Start Markdown table\n",
    "    md = []\n",
    "    md.append(f\"### {file_path.split('/')[-1]}\")\n",
    "    md.append(\"| Column | Type | Non-Null Count | Example |\")\n",
    "    md.append(\"|---------|------|----------------|----------|\")\n",
    "\n",
    "    for col in df.columns:\n",
    "        dtype = str(df[col].dtype)\n",
    "        non_null = df[col].notnull().sum()\n",
    "        example = df[col].dropna().iloc[0] if df[col].notnull().any() else \"\"\n",
    "        md.append(f\"| {col} | {dtype} | {non_null} | {example} |\")\n",
    "\n",
    "    return \"\\n\".join(md)\n"
   ]
  },
  {
   "cell_type": "code",
   "execution_count": 10,
   "id": "e248d959-2d63-454a-80d4-8d56c95817e7",
   "metadata": {},
   "outputs": [],
   "source": [
    "with open(\"Python/outputs/raw_schema.md\", \"w\") as f:\n",
    "    for file in files:\n",
    "        f.write(get_schema(file))\n",
    "        f.write(\"\\n\\n\")"
   ]
  }
 ],
 "metadata": {
  "kernelspec": {
   "display_name": "Python 3 (ipykernel)",
   "language": "python",
   "name": "python3"
  },
  "language_info": {
   "codemirror_mode": {
    "name": "ipython",
    "version": 3
   },
   "file_extension": ".py",
   "mimetype": "text/x-python",
   "name": "python",
   "nbconvert_exporter": "python",
   "pygments_lexer": "ipython3",
   "version": "3.13.5"
  }
 },
 "nbformat": 4,
 "nbformat_minor": 5
}
