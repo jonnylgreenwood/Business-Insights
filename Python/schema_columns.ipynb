{
 "cells": [
  {
   "cell_type": "code",
   "execution_count": null,
   "id": "4e883fe6-e42b-403f-a85e-dccb80532afe",
   "metadata": {},
   "outputs": [
    {
     "name": "stdout",
     "output_type": "stream",
     "text": [
      "✅ Working directory set to: /Users/jonnygreenwood\n"
     ]
    }
   ],
   "source": [
    "import pandas as pd\n",
    "# ensure project root is the working directory\n",
    "from pathlib import Path\n",
    "import os\n",
    "\n",
    "# Move one level up (from /Python to project root)\n",
    "os.chdir(Path().resolve().parent)\n",
    "\n",
    "print(\"✅ Working directory set to:\", Path().resolve())"
   ]
  },
  {
   "cell_type": "code",
   "execution_count": null,
   "id": "2d37f252-38a8-4967-b610-57b68a3f1431",
   "metadata": {},
   "outputs": [],
   "source": [
    "# Relative paths\n",
    "\n",
    "files = [\n",
    "'data/m5-forecasting-accuracy/calendar.csv',\n",
    "'data/m5-forecasting-accuracy/sales_train_evaluation.csv',\n",
    "'data/m5-forecasting-accuracy/sales_train_validation.csv',\n",
    "'data/m5-forecasting-accuracy/sample_submission.csv',\n",
    "'data/m5-forecasting-accuracy/sell_prices.csv'\n",
    "]"
   ]
  },
  {
   "cell_type": "code",
   "execution_count": null,
   "id": "cf0871a2-9bda-476f-a695-a6fe9e2a8215",
   "metadata": {},
   "outputs": [],
   "source": [
    "def get_schema(file_path, nrows=500):\n",
    "    \"\"\"\n",
    "    Generate a Markdown schema table for a CSV file.\n",
    "    \n",
    "    Args:\n",
    "        file_path (str): Path to the CSV file.\n",
    "        nrows (int): Number of rows to sample for dtype inference (default 500).\n",
    "    \n",
    "    Returns:\n",
    "        str: Markdown table as a string.\n",
    "    \"\"\"\n",
    "    # Read a small sample for speed\n",
    "    df = pd.read_csv(file_path, nrows=nrows)\n",
    "\n",
    "    dtype_map = {\n",
    "        \"object\": \"string\",\n",
    "        \"string\": \"string\",\n",
    "        \"int64\": \"integer\",\n",
    "        \"float64\": \"float\",\n",
    "        \"bool\": \"boolean\",\n",
    "        \"datetime64[ns]\": \"datetime\",\n",
    "        \"category\": \"categorical\"\n",
    "    }\n",
    "    \n",
    "    # Start Markdown table\n",
    "    md = []\n",
    "    md.append(f\"### {file_path.split('/')[-1]}\")\n",
    "    md.append(\"| Column | Type | Non-Null Count | Example |\")\n",
    "    md.append(\"|---------|------|----------------|----------|\")\n",
    "\n",
    "    for col in df.columns:\n",
    "        dtype = str(df[col].dtype)\n",
    "        friendly_type = dtype_map.get(dtype, dtype)\n",
    "        non_null = df[col].notnull().sum()\n",
    "        example = df[col].dropna().iloc[0] if df[col].notnull().any() else \"\"\n",
    "        md.append(f\"| {col} | {friendly_type} | {non_null} | {example} |\")\n",
    "\n",
    "    return \"\\n\".join(md)\n"
   ]
  },
  {
   "cell_type": "code",
   "execution_count": null,
   "id": "e248d959-2d63-454a-80d4-8d56c95817e7",
   "metadata": {},
   "outputs": [
    {
     "ename": "FileNotFoundError",
     "evalue": "[Errno 2] No such file or directory: 'Python/outputs/raw_schema.md'",
     "output_type": "error",
     "traceback": [
      "\u001b[31m---------------------------------------------------------------------------\u001b[39m",
      "\u001b[31mFileNotFoundError\u001b[39m                         Traceback (most recent call last)",
      "\u001b[36mCell\u001b[39m\u001b[36m \u001b[39m\u001b[32mIn[18]\u001b[39m\u001b[32m, line 1\u001b[39m\n\u001b[32m----> \u001b[39m\u001b[32m1\u001b[39m \u001b[38;5;28;01mwith\u001b[39;00m \u001b[38;5;28;43mopen\u001b[39;49m\u001b[43m(\u001b[49m\u001b[33;43m\"\u001b[39;49m\u001b[33;43mPython/outputs/raw_schema.md\u001b[39;49m\u001b[33;43m\"\u001b[39;49m\u001b[43m,\u001b[49m\u001b[43m \u001b[49m\u001b[33;43m\"\u001b[39;49m\u001b[33;43mw\u001b[39;49m\u001b[33;43m\"\u001b[39;49m\u001b[43m)\u001b[49m \u001b[38;5;28;01mas\u001b[39;00m f:\n\u001b[32m      2\u001b[39m     \u001b[38;5;28;01mfor\u001b[39;00m file \u001b[38;5;129;01min\u001b[39;00m files:\n\u001b[32m      3\u001b[39m         f.write(get_schema(file))\n",
      "\u001b[36mFile \u001b[39m\u001b[32m~/Documents/Forecast-Accuracy-Analysis/.venv/lib/python3.13/site-packages/IPython/core/interactiveshell.py:343\u001b[39m, in \u001b[36m_modified_open\u001b[39m\u001b[34m(file, *args, **kwargs)\u001b[39m\n\u001b[32m    336\u001b[39m \u001b[38;5;28;01mif\u001b[39;00m file \u001b[38;5;129;01min\u001b[39;00m {\u001b[32m0\u001b[39m, \u001b[32m1\u001b[39m, \u001b[32m2\u001b[39m}:\n\u001b[32m    337\u001b[39m     \u001b[38;5;28;01mraise\u001b[39;00m \u001b[38;5;167;01mValueError\u001b[39;00m(\n\u001b[32m    338\u001b[39m         \u001b[33mf\u001b[39m\u001b[33m\"\u001b[39m\u001b[33mIPython won\u001b[39m\u001b[33m'\u001b[39m\u001b[33mt let you open fd=\u001b[39m\u001b[38;5;132;01m{\u001b[39;00mfile\u001b[38;5;132;01m}\u001b[39;00m\u001b[33m by default \u001b[39m\u001b[33m\"\u001b[39m\n\u001b[32m    339\u001b[39m         \u001b[33m\"\u001b[39m\u001b[33mas it is likely to crash IPython. If you know what you are doing, \u001b[39m\u001b[33m\"\u001b[39m\n\u001b[32m    340\u001b[39m         \u001b[33m\"\u001b[39m\u001b[33myou can use builtins\u001b[39m\u001b[33m'\u001b[39m\u001b[33m open.\u001b[39m\u001b[33m\"\u001b[39m\n\u001b[32m    341\u001b[39m     )\n\u001b[32m--> \u001b[39m\u001b[32m343\u001b[39m \u001b[38;5;28;01mreturn\u001b[39;00m \u001b[43mio_open\u001b[49m\u001b[43m(\u001b[49m\u001b[43mfile\u001b[49m\u001b[43m,\u001b[49m\u001b[43m \u001b[49m\u001b[43m*\u001b[49m\u001b[43margs\u001b[49m\u001b[43m,\u001b[49m\u001b[43m \u001b[49m\u001b[43m*\u001b[49m\u001b[43m*\u001b[49m\u001b[43mkwargs\u001b[49m\u001b[43m)\u001b[49m\n",
      "\u001b[31mFileNotFoundError\u001b[39m: [Errno 2] No such file or directory: 'Python/outputs/raw_schema.md'"
     ]
    }
   ],
   "source": [
    "with open(\"Python/outputs/raw_schema.md\", \"w\") as f:\n",
    "    for file in files:\n",
    "        f.write(get_schema(file))\n",
    "        f.write(\"\\n\\n\")"
   ]
  },
  {
   "cell_type": "code",
   "execution_count": null,
   "id": "572cd6fe-2c21-4651-b649-2b103821c8f6",
   "metadata": {},
   "outputs": [],
   "source": []
  },
  {
   "cell_type": "code",
   "execution_count": null,
   "id": "bf58ef6a-e6fd-4e74-b69f-b0a0f6b729f4",
   "metadata": {},
   "outputs": [],
   "source": []
  }
 ],
 "metadata": {
  "kernelspec": {
   "display_name": "Python 3 (ipykernel)",
   "language": "python",
   "name": "python3"
  },
  "language_info": {
   "codemirror_mode": {
    "name": "ipython",
    "version": 3
   },
   "file_extension": ".py",
   "mimetype": "text/x-python",
   "name": "python",
   "nbconvert_exporter": "python",
   "pygments_lexer": "ipython3",
   "version": "3.13.5"
  }
 },
 "nbformat": 4,
 "nbformat_minor": 5
}
